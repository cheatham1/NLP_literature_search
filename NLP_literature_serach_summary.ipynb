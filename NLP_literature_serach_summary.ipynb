{
 "cells": [
  {
   "cell_type": "markdown",
   "metadata": {
    "collapsed": true
   },
   "source": [
    "### Use NLP to help with literature searches: extract key sentences\n",
    "\n",
    "- literature search on keywords -> csv file\n",
    "- Read titles and urls from csv file\n",
    "- Assume most used words in article are the most important, so weight words according to their frequency\n",
    "- Rank sentences in importance according to the sum of word frequency weight / number words in sentence\n",
    "- Create summary from the 2 most 'important' sentences per article\n",
    "\n",
    "- Maybe most 'important' sentences are just those with highest total sum of word frequency weights ???\n",
    "- Need to test to see what method best - or if indeed useful at all :)\n"
   ]
  },
  {
   "cell_type": "code",
   "execution_count": 1,
   "metadata": {
    "collapsed": true
   },
   "outputs": [],
   "source": [
    "import bs4 as BeautifulSoup\n",
    "import urllib.request  \n",
    "\n",
    "from nltk.corpus import stopwords\n",
    "from nltk.stem import PorterStemmer\n",
    "from nltk.tokenize import word_tokenize, sent_tokenize"
   ]
  },
  {
   "cell_type": "code",
   "execution_count": 2,
   "metadata": {
    "collapsed": true
   },
   "outputs": [],
   "source": [
    "import pandas as pd\n",
    "import string"
   ]
  },
  {
   "cell_type": "code",
   "execution_count": 3,
   "metadata": {
    "collapsed": true
   },
   "outputs": [],
   "source": [
    "input_file = \"pubmed_result.csv\"\n",
    "data_file = pd.read_csv(input_file,index_col=False)"
   ]
  },
  {
   "cell_type": "code",
   "execution_count": 4,
   "metadata": {},
   "outputs": [
    {
     "data": {
      "text/html": [
       "<div>\n",
       "<style>\n",
       "    .dataframe thead tr:only-child th {\n",
       "        text-align: right;\n",
       "    }\n",
       "\n",
       "    .dataframe thead th {\n",
       "        text-align: left;\n",
       "    }\n",
       "\n",
       "    .dataframe tbody tr th {\n",
       "        vertical-align: top;\n",
       "    }\n",
       "</style>\n",
       "<table border=\"1\" class=\"dataframe\">\n",
       "  <thead>\n",
       "    <tr style=\"text-align: right;\">\n",
       "      <th></th>\n",
       "      <th>Title</th>\n",
       "      <th>URL</th>\n",
       "      <th>Description</th>\n",
       "      <th>Details</th>\n",
       "      <th>ShortDetails</th>\n",
       "      <th>Resource</th>\n",
       "      <th>Type</th>\n",
       "      <th>Identifiers</th>\n",
       "      <th>Db</th>\n",
       "      <th>EntrezUID</th>\n",
       "      <th>Properties</th>\n",
       "    </tr>\n",
       "  </thead>\n",
       "  <tbody>\n",
       "    <tr>\n",
       "      <th>0</th>\n",
       "      <td>Total knee arthroplasty: posterior tibial slop...</td>\n",
       "      <td>/pubmed/32030500</td>\n",
       "      <td>Ismailidis P, Kremo V, Mündermann A, Müller-Ge...</td>\n",
       "      <td>Knee Surg Sports Traumatol Arthrosc. 2020 Feb ...</td>\n",
       "      <td>Knee Surg Sports Traumatol Arthrosc.  2020</td>\n",
       "      <td>PubMed</td>\n",
       "      <td>citation</td>\n",
       "      <td>PMID:32030500</td>\n",
       "      <td>pubmed</td>\n",
       "      <td>32030500</td>\n",
       "      <td>create date:2020/02/08 | first author:Ismailid...</td>\n",
       "    </tr>\n",
       "    <tr>\n",
       "      <th>1</th>\n",
       "      <td>The use of an asymmetrical tibial tray in TKA ...</td>\n",
       "      <td>/pubmed/32006074</td>\n",
       "      <td>Okazaki Y, Pujol N.</td>\n",
       "      <td>Knee Surg Sports Traumatol Arthrosc. 2020 Jan ...</td>\n",
       "      <td>Knee Surg Sports Traumatol Arthrosc.  2020</td>\n",
       "      <td>PubMed</td>\n",
       "      <td>citation</td>\n",
       "      <td>PMID:32006074</td>\n",
       "      <td>pubmed</td>\n",
       "      <td>32006074</td>\n",
       "      <td>create date:2020/02/02 | first author:Okazaki Y</td>\n",
       "    </tr>\n",
       "  </tbody>\n",
       "</table>\n",
       "</div>"
      ],
      "text/plain": [
       "                                               Title               URL  \\\n",
       "0  Total knee arthroplasty: posterior tibial slop...  /pubmed/32030500   \n",
       "1  The use of an asymmetrical tibial tray in TKA ...  /pubmed/32006074   \n",
       "\n",
       "                                         Description  \\\n",
       "0  Ismailidis P, Kremo V, Mündermann A, Müller-Ge...   \n",
       "1                                Okazaki Y, Pujol N.   \n",
       "\n",
       "                                             Details  \\\n",
       "0  Knee Surg Sports Traumatol Arthrosc. 2020 Feb ...   \n",
       "1  Knee Surg Sports Traumatol Arthrosc. 2020 Jan ...   \n",
       "\n",
       "                                 ShortDetails Resource      Type  \\\n",
       "0  Knee Surg Sports Traumatol Arthrosc.  2020   PubMed  citation   \n",
       "1  Knee Surg Sports Traumatol Arthrosc.  2020   PubMed  citation   \n",
       "\n",
       "     Identifiers      Db  EntrezUID  \\\n",
       "0  PMID:32030500  pubmed   32030500   \n",
       "1  PMID:32006074  pubmed   32006074   \n",
       "\n",
       "                                          Properties  \n",
       "0  create date:2020/02/08 | first author:Ismailid...  \n",
       "1    create date:2020/02/02 | first author:Okazaki Y  "
      ]
     },
     "execution_count": 4,
     "metadata": {},
     "output_type": "execute_result"
    }
   ],
   "source": [
    "data_file.head(2)"
   ]
  },
  {
   "cell_type": "code",
   "execution_count": 5,
   "metadata": {},
   "outputs": [
    {
     "name": "stdout",
     "output_type": "stream",
     "text": [
      "234\n"
     ]
    }
   ],
   "source": [
    "# number articles\n",
    "number_articles = data_file.shape[0]\n",
    "print(number_articles)"
   ]
  },
  {
   "cell_type": "code",
   "execution_count": 6,
   "metadata": {
    "collapsed": true
   },
   "outputs": [],
   "source": [
    "# Define number sentences required for summary\n",
    "number_sentences = 2"
   ]
  },
  {
   "cell_type": "code",
   "execution_count": 7,
   "metadata": {
    "collapsed": true
   },
   "outputs": [],
   "source": [
    "url_list = data_file[['Title','URL']]"
   ]
  },
  {
   "cell_type": "code",
   "execution_count": 8,
   "metadata": {},
   "outputs": [
    {
     "data": {
      "text/html": [
       "<div>\n",
       "<style>\n",
       "    .dataframe thead tr:only-child th {\n",
       "        text-align: right;\n",
       "    }\n",
       "\n",
       "    .dataframe thead th {\n",
       "        text-align: left;\n",
       "    }\n",
       "\n",
       "    .dataframe tbody tr th {\n",
       "        vertical-align: top;\n",
       "    }\n",
       "</style>\n",
       "<table border=\"1\" class=\"dataframe\">\n",
       "  <thead>\n",
       "    <tr style=\"text-align: right;\">\n",
       "      <th></th>\n",
       "      <th>Title</th>\n",
       "      <th>URL</th>\n",
       "    </tr>\n",
       "  </thead>\n",
       "  <tbody>\n",
       "    <tr>\n",
       "      <th>0</th>\n",
       "      <td>Total knee arthroplasty: posterior tibial slop...</td>\n",
       "      <td>/pubmed/32030500</td>\n",
       "    </tr>\n",
       "    <tr>\n",
       "      <th>1</th>\n",
       "      <td>The use of an asymmetrical tibial tray in TKA ...</td>\n",
       "      <td>/pubmed/32006074</td>\n",
       "    </tr>\n",
       "    <tr>\n",
       "      <th>2</th>\n",
       "      <td>Revisiting the tibial crest as reference for t...</td>\n",
       "      <td>/pubmed/32002790</td>\n",
       "    </tr>\n",
       "  </tbody>\n",
       "</table>\n",
       "</div>"
      ],
      "text/plain": [
       "                                               Title               URL\n",
       "0  Total knee arthroplasty: posterior tibial slop...  /pubmed/32030500\n",
       "1  The use of an asymmetrical tibial tray in TKA ...  /pubmed/32006074\n",
       "2  Revisiting the tibial crest as reference for t...  /pubmed/32002790"
      ]
     },
     "execution_count": 8,
     "metadata": {},
     "output_type": "execute_result"
    }
   ],
   "source": [
    "url_list.head(3)"
   ]
  },
  {
   "cell_type": "code",
   "execution_count": 9,
   "metadata": {},
   "outputs": [
    {
     "data": {
      "text/plain": [
       "'/pubmed/32030500'"
      ]
     },
     "execution_count": 9,
     "metadata": {},
     "output_type": "execute_result"
    }
   ],
   "source": [
    "url_list['URL'][0]"
   ]
  },
  {
   "cell_type": "code",
   "execution_count": 10,
   "metadata": {
    "collapsed": true
   },
   "outputs": [],
   "source": [
    "def get_article_content(url):\n",
    "\n",
    "    data = urllib.request.urlopen(url)\n",
    "    article = data.read()\n",
    "\n",
    "    # Parse the URL content\n",
    "    article_parsed = BeautifulSoup.BeautifulSoup(article,'html.parser')\n",
    "\n",
    "    # Use <p> tags to split into paragraphs\n",
    "    paragraphs = article_parsed.find_all('p')\n",
    "\n",
    "    article_content = ''\n",
    "    \n",
    "    # Loop through the paragraphs. Could be improved - skip various text sections that not important for summary\n",
    "    for p in paragraphs: \n",
    "        if \"The NCBI web site requires JavaScript to function\" in p.text:    \n",
    "            continue\n",
    "        if \"Fetching bibliography\" in p.text:     \n",
    "            continue   \n",
    "        if 'Generate a file for use with external citation management software' in p.text:  \n",
    "            continue\n",
    "        if 'Rockville Pike, Bethesda' in p.text:\n",
    "            continue\n",
    "        article_content += p.text\n",
    "    \n",
    "    return article_content"
   ]
  },
  {
   "cell_type": "code",
   "execution_count": 11,
   "metadata": {
    "collapsed": true
   },
   "outputs": [],
   "source": [
    "# Stop words and punctuation to be removed from text\n",
    "punctuation = string.punctuation\n",
    "punctuation = punctuation + '...'\n",
    "\n",
    "stop_words = set(stopwords.words(\"english\"))"
   ]
  },
  {
   "cell_type": "code",
   "execution_count": 12,
   "metadata": {},
   "outputs": [
    {
     "data": {
      "text/plain": [
       "'!\"#$%&\\'()*+,-./:;<=>?@[\\\\]^_`{|}~...'"
      ]
     },
     "execution_count": 12,
     "metadata": {},
     "output_type": "execute_result"
    }
   ],
   "source": [
    "punctuation"
   ]
  },
  {
   "cell_type": "code",
   "execution_count": 13,
   "metadata": {
    "collapsed": true
   },
   "outputs": [],
   "source": [
    "def create_dictionary_table(text_string):\n",
    "    \n",
    "    words = word_tokenize(text_string)\n",
    "    \n",
    "    # Reduce words to their root form\n",
    "    stem = PorterStemmer()\n",
    "    \n",
    "    # Create frequency table\n",
    "    frequency_table = dict()\n",
    "    for word in words:\n",
    "        word = stem.stem(word)\n",
    "        \n",
    "        if word in stop_words:\n",
    "            continue\n",
    "        if word in punctuation:\n",
    "            continue\n",
    "                        \n",
    "        if word in frequency_table:\n",
    "            frequency_table[word] += 1\n",
    "        else:\n",
    "            frequency_table[word] = 1\n",
    "\n",
    "    return frequency_table"
   ]
  },
  {
   "cell_type": "code",
   "execution_count": 14,
   "metadata": {
    "collapsed": true
   },
   "outputs": [],
   "source": [
    "def calculate_sentence_scores(sentences, frequency_table):\n",
    "    \n",
    "    # Score a sentence by its word frequency sum\n",
    "    sentence_weight = dict()\n",
    "\n",
    "    for sentence in sentences:\n",
    "        #print(\"New sentence: \",sentence)\n",
    "        sentence_wordcount = (len(word_tokenize(sentence)))\n",
    "        sentence_sum = 0\n",
    "\n",
    "        for word in frequency_table:\n",
    "            if word in sentence.lower():\n",
    "                sentence_sum += frequency_table[word]\n",
    "            \n",
    "        sentence_weight[sentence] = sentence_sum / sentence_wordcount\n",
    "      \n",
    "    return sentence_weight"
   ]
  },
  {
   "cell_type": "code",
   "execution_count": 15,
   "metadata": {
    "collapsed": true
   },
   "outputs": [],
   "source": [
    "def run_article_summary(article, number_sentences):\n",
    "\n",
    "    #create a dictionary for the word frequency table\n",
    "    frequency_table = create_dictionary_table(article)\n",
    "\n",
    "    #tokenize the sentences\n",
    "    sentences = sent_tokenize(article)\n",
    "\n",
    "    #score a sentence by its total word freq weights\n",
    "    sentence_scores = calculate_sentence_scores(sentences, frequency_table)\n",
    "\n",
    "    sentence_sorted = sorted(sentence_scores, reverse=True)\n",
    "    article_summary = sentence_sorted[0:number_sentences]\n",
    "\n",
    "    return article_summary"
   ]
  },
  {
   "cell_type": "code",
   "execution_count": 16,
   "metadata": {},
   "outputs": [],
   "source": [
    "summary_filename = \"SummaryFile.txt\"\n",
    "url_start = \"https://www.ncbi.nlm.nih.gov\"\n",
    "file1 = open(summary_filename,\"w+\")\n",
    "    \n",
    "summary = pd.DataFrame(columns = ['Title','URL','Summary'])    \n",
    "       \n",
    "for i in range(0, number_articles):    \n",
    "#for i in range(0,5):\n",
    "    title = url_list['Title'][i]\n",
    "    url = url_start + url_list['URL'][i]\n",
    "    article_content = get_article_content(url)\n",
    "    \n",
    "    summary_results = run_article_summary(article_content, number_sentences)\n",
    "    #print('\"'+ title + '\"') \n",
    "    #print(url)\n",
    "    #print(summary_results)\n",
    "    #print(\" \")\n",
    "    \n",
    "    summary_line_1 = str('\"'+ title + '\"\\n' + url + \"\\n\")\n",
    "    summary_line_2 = str(str(summary_results) + \"\\n\")\n",
    "    file1.write(summary_line_1) \n",
    "    file1.write(summary_line_2) \n",
    "    file1.write(\"\\n\")\n",
    "    \n",
    "file1.close() "
   ]
  },
  {
   "cell_type": "code",
   "execution_count": null,
   "metadata": {
    "collapsed": true
   },
   "outputs": [],
   "source": []
  },
  {
   "cell_type": "code",
   "execution_count": null,
   "metadata": {
    "collapsed": true
   },
   "outputs": [],
   "source": []
  }
 ],
 "metadata": {
  "kernelspec": {
   "display_name": "Python 3",
   "language": "python",
   "name": "python3"
  },
  "language_info": {
   "codemirror_mode": {
    "name": "ipython",
    "version": 3
   },
   "file_extension": ".py",
   "mimetype": "text/x-python",
   "name": "python",
   "nbconvert_exporter": "python",
   "pygments_lexer": "ipython3",
   "version": "3.6.8"
  }
 },
 "nbformat": 4,
 "nbformat_minor": 2
}
